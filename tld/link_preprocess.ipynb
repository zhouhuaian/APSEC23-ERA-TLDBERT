{
 "cells": [
  {
   "cell_type": "code",
   "execution_count": 1,
   "id": "1345f1c8",
   "metadata": {},
   "outputs": [],
   "source": [
    "import pandas as pd\n",
    "from tqdm import tqdm\n",
    "import random\n",
    "import os"
   ]
  },
  {
   "cell_type": "code",
   "execution_count": 2,
   "id": "f0b7ceb1",
   "metadata": {},
   "outputs": [],
   "source": [
    "tqdm.pandas()"
   ]
  },
  {
   "cell_type": "code",
   "execution_count": 3,
   "id": "46d49dd9",
   "metadata": {},
   "outputs": [],
   "source": [
    "REPOS = ['Apache', 'Hyperledger', 'IntelDAOS', 'JFrog', 'Jira', \n",
    "         'JiraEcosystem', 'MariaDB', 'Mojang', 'MongoDB', 'Qt', \n",
    "         'RedHat', 'Sakai', 'SecondLife', 'Sonatype', 'Spring']"
   ]
  },
  {
   "cell_type": "code",
   "execution_count": 4,
   "id": "03cf285e",
   "metadata": {},
   "outputs": [],
   "source": [
    "CLEANED_ISSUE_DIR = '../data/processed/cleaned_issues/'\n",
    "LINK_DIR = '../data/raw/links/'\n",
    "\n",
    "issue_paths = []\n",
    "for root, dirs, file_names in os.walk(CLEANED_ISSUE_DIR):\n",
    "    for file_name in file_names:\n",
    "        issue_paths.append(os.path.join(root, file_name))"
   ]
  },
  {
   "cell_type": "code",
   "execution_count": 5,
   "id": "40885839",
   "metadata": {},
   "outputs": [],
   "source": [
    "def load_issues(repo: str):\n",
    "    issue_path_ls = [issue_path for issue_path in issue_paths if repo in issue_path]\n",
    "    issue_df = pd.DataFrame()\n",
    "    for issue_path in issue_path_ls:\n",
    "        tmp_df = pd.read_csv(issue_path, sep=';', encoding='utf-8', low_memory=False, \n",
    "                             usecols=lambda x : x not in ['created', 'updated', 'comments', 'components'], index_col=['issue_id'])\n",
    "        issue_df = pd.concat([issue_df, tmp_df])\n",
    "    return issue_df"
   ]
  },
  {
   "cell_type": "code",
   "execution_count": 6,
   "id": "1981c072",
   "metadata": {},
   "outputs": [],
   "source": [
    "def load_links(repo: str):\n",
    "    link_path = LINK_DIR + repo + '.csv'\n",
    "    link_df = pd.read_csv(link_path, sep=';', encoding=\"UTF-8\", low_memory=False).drop_duplicates()\n",
    "    return link_df"
   ]
  },
  {
   "cell_type": "code",
   "execution_count": 7,
   "id": "2f7d00be",
   "metadata": {},
   "outputs": [],
   "source": [
    "# This function is to identify doubled issue pairs\n",
    "def add_linked_issues_to_df(df):\n",
    "    df['issues'] = ''\n",
    "    for i in tqdm(range(len(df))):\n",
    "        df['issues'].iloc[i] = str(sorted(set([df.iloc[i]['issue_id_1'], df.iloc[i]['issue_id_2']])))"
   ]
  },
  {
   "cell_type": "code",
   "execution_count": 8,
   "id": "4447a7d2",
   "metadata": {},
   "outputs": [],
   "source": [
    "def clean_links(link_df, issue_df):    \n",
    "\n",
    "    # Remove links with uncrawled and filtered issues\n",
    "    link_df = link_df[link_df[['issue_id_1', 'issue_id_2']].isin(issue_df.index.values).all(axis=1)]\n",
    "    print(f'Left with {len(link_df)} links after removing half-private links')\n",
    "    \n",
    "    # Cleanup links, only allow one link per issue-pair\n",
    "    link_df.drop_duplicates(subset=['name'], keep=False, inplace=True)\n",
    "    print(f'Left with {len(link_df)} links after removing issue-pairs with multiple links between them')\n",
    "\n",
    "    # In case the name is the otherway around, like issue-1_issue-2 and issue-2_issue-1\n",
    "    doublelinks = (link_df.issues.value_counts() > 1).rename_axis('doubles').reset_index(name='valid')\n",
    "    valid_doubles = set(doublelinks[doublelinks['valid'] == True]['doubles'])\n",
    "\n",
    "    for i in tqdm(valid_doubles):\n",
    "        if len(set(link_df[link_df['issues'] == i]['linktype'])) > 1:\n",
    "            link_df = link_df[link_df.issues != i]\n",
    "    print(f'Left with {len(link_df)} links after removing issue-pairs with multiple link types between them')\n",
    "\n",
    "    # Multiple links complete remove\n",
    "    link_df.drop_duplicates(subset=['issues'], inplace=True)\n",
    "    print(f'Left with {len(link_df)} links after removing issue-pairs with multiple entries')\n",
    "\n",
    "    link_df.reset_index(inplace=True, drop=True)\n",
    "    \n",
    "    return link_df"
   ]
  },
  {
   "cell_type": "code",
   "execution_count": 9,
   "id": "3049cb9f",
   "metadata": {},
   "outputs": [],
   "source": [
    "# Create non-links from randomly selected issues\n",
    "def create_non_links(link_df, issue_df, linked_pairs):\n",
    "   \n",
    "    non_link_issues = set(issue_df[~issue_df['resolution'].isin(['Duplicate'])].index)\n",
    "    \n",
    "    cols = ['name', 'linktype', 'issue_id_1', 'issue_id_2', 'issues']\n",
    "    non_link_df = pd.DataFrame(columns=cols)\n",
    "\n",
    "    for i in tqdm(range(int(link_df.linktype.value_counts().mean()))):\n",
    "        sample = random.sample(non_link_issues, 2)\n",
    "        if not set([sample[0], sample[1]]) in (linked_pairs):\n",
    "            name = str(sample[0]) + \"_\" + str(sample[1])\n",
    "            non_link = pd.DataFrame([{\n",
    "                \"name\": name,\n",
    "                \"linktype\": \"Non-Link\",\n",
    "                \"issue_id_1\":  sample[0],\n",
    "                \"issue_id_2\":  sample[1],\n",
    "                \"issues\": str(sorted(set([sample[0], sample[1]])))\n",
    "            }])\n",
    "            non_link_df = pd.concat([non_link_df, non_link], ignore_index=True)\n",
    "        else:\n",
    "            print('hi')\n",
    "\n",
    "    link_plus_df = pd.concat([link_df, non_link_df], ignore_index=True)\n",
    "    \n",
    "    return link_plus_df"
   ]
  },
  {
   "cell_type": "code",
   "execution_count": 10,
   "id": "ab8df842",
   "metadata": {},
   "outputs": [],
   "source": [
    "# Join links and issues\n",
    "def joined_links(link_df, issue_df):\n",
    "    link_df = link_df[['linktype', 'issue_id_1', 'issue_id_2']]\n",
    "    joined_df = link_df \\\n",
    "        .join(issue_df.add_suffix('_1'), on='issue_id_1') \\\n",
    "        .join(issue_df.add_suffix('_2'), on='issue_id_2')\n",
    "    return joined_df"
   ]
  },
  {
   "cell_type": "code",
   "execution_count": 11,
   "id": "b42827a1",
   "metadata": {
    "scrolled": true
   },
   "outputs": [
    {
     "name": "stdout",
     "output_type": "stream",
     "text": [
      "Loaded 1014926 issues and 264107 links for Apache\n"
     ]
    },
    {
     "name": "stderr",
     "output_type": "stream",
     "text": [
      "100%|██████████| 264107/264107 [00:47<00:00, 5551.72it/s]\n",
      "/tmp/ipykernel_1717/4275618611.py:8: SettingWithCopyWarning: \n",
      "A value is trying to be set on a copy of a slice from a DataFrame\n",
      "\n",
      "See the caveats in the documentation: https://pandas.pydata.org/pandas-docs/stable/user_guide/indexing.html#returning-a-view-versus-a-copy\n",
      "  link_df.drop_duplicates(subset=['name'], keep=False, inplace=True)\n"
     ]
    },
    {
     "name": "stdout",
     "output_type": "stream",
     "text": [
      "Left with 263647 links after removing half-private links\n",
      "Left with 259717 links after removing issue-pairs with multiple links between them\n"
     ]
    },
    {
     "name": "stderr",
     "output_type": "stream",
     "text": [
      "100%|██████████| 2218/2218 [00:52<00:00, 41.85it/s]\n"
     ]
    },
    {
     "name": "stdout",
     "output_type": "stream",
     "text": [
      "Left with 256253 links after removing issue-pairs with multiple link types between them\n",
      "Left with 255767 links after removing issue-pairs with multiple entries\n",
      "Cleaned 255767 links for Apache\n",
      "Subtask             83783\n",
      "Reference           68973\n",
      "Duplicate           25925\n",
      "Blocker             14377\n",
      "Epic-Relation       12506\n",
      "dependent           12498\n",
      "Incorporates         6923\n",
      "Regression           4350\n",
      "Cloners              4321\n",
      "Required             3620\n",
      "Container            3508\n",
      "Related              3369\n",
      "Supercedes           3248\n",
      "Problem/Incident     3106\n",
      "Child-Issue          2508\n",
      "Blocked              1172\n",
      "Completes             914\n",
      "Dependent             399\n",
      "Dependency            112\n",
      "Testing                79\n",
      "Parent Feature         50\n",
      "Issue split            26\n",
      "Name: linktype, dtype: int64\n"
     ]
    },
    {
     "name": "stderr",
     "output_type": "stream",
     "text": [
      "100%|██████████| 11625/11625 [06:39<00:00, 29.13it/s]\n"
     ]
    },
    {
     "name": "stdout",
     "output_type": "stream",
     "text": [
      "Total cleaned links plus non_links is 267392 for Apache\n",
      "----------------------------\n",
      "\n",
      "Loaded 28146 issues and 16846 links for Hyperledger\n"
     ]
    },
    {
     "name": "stderr",
     "output_type": "stream",
     "text": [
      "100%|██████████| 16846/16846 [00:03<00:00, 5256.78it/s]\n",
      "/tmp/ipykernel_1717/4275618611.py:8: SettingWithCopyWarning: \n",
      "A value is trying to be set on a copy of a slice from a DataFrame\n",
      "\n",
      "See the caveats in the documentation: https://pandas.pydata.org/pandas-docs/stable/user_guide/indexing.html#returning-a-view-versus-a-copy\n",
      "  link_df.drop_duplicates(subset=['name'], keep=False, inplace=True)\n"
     ]
    },
    {
     "name": "stdout",
     "output_type": "stream",
     "text": [
      "Left with 16733 links after removing half-private links\n",
      "Left with 16565 links after removing issue-pairs with multiple links between them\n"
     ]
    },
    {
     "name": "stderr",
     "output_type": "stream",
     "text": [
      "100%|██████████| 141/141 [00:00<00:00, 420.75it/s]\n"
     ]
    },
    {
     "name": "stdout",
     "output_type": "stream",
     "text": [
      "Left with 16325 links after removing issue-pairs with multiple link types between them\n",
      "Left with 16304 links after removing issue-pairs with multiple entries\n",
      "Cleaned 16304 links for Hyperledger\n",
      "Epic-Relation      6459\n",
      "Subtask            4494\n",
      "Relates            2807\n",
      "Blocks             1344\n",
      "Duplicate           638\n",
      "Cloners             477\n",
      "Issue split          78\n",
      "Git Code Review       7\n",
      "Name: linktype, dtype: int64\n"
     ]
    },
    {
     "name": "stderr",
     "output_type": "stream",
     "text": [
      "100%|██████████| 2038/2038 [00:01<00:00, 1173.10it/s]\n"
     ]
    },
    {
     "name": "stdout",
     "output_type": "stream",
     "text": [
      "Total cleaned links plus non_links is 18342 for Hyperledger\n",
      "----------------------------\n",
      "\n",
      "Loaded 9474 issues and 2667 links for IntelDAOS\n"
     ]
    },
    {
     "name": "stderr",
     "output_type": "stream",
     "text": [
      "100%|██████████| 2667/2667 [00:00<00:00, 5110.52it/s]\n"
     ]
    },
    {
     "name": "stdout",
     "output_type": "stream",
     "text": [
      "Left with 2667 links after removing half-private links\n",
      "Left with 2641 links after removing issue-pairs with multiple links between them\n"
     ]
    },
    {
     "name": "stderr",
     "output_type": "stream",
     "text": [
      "100%|██████████| 24/24 [00:00<00:00, 1872.32it/s]\n"
     ]
    },
    {
     "name": "stdout",
     "output_type": "stream",
     "text": [
      "Left with 2605 links after removing issue-pairs with multiple link types between them\n",
      "Left with 2599 links after removing issue-pairs with multiple entries\n",
      "Cleaned 2599 links for IntelDAOS\n",
      "Related                 1016\n",
      "Blocker                  663\n",
      "Subtask                  274\n",
      "Duplicate                252\n",
      "Cloners (migrated)       176\n",
      "Gantt End to Start       100\n",
      "Verify                    39\n",
      "Cloners                   38\n",
      "Implement                 17\n",
      "Gantt End to End          16\n",
      "Relates                    6\n",
      "Blocks                     1\n",
      "Gantt Start to Start       1\n",
      "Name: linktype, dtype: int64\n"
     ]
    },
    {
     "name": "stderr",
     "output_type": "stream",
     "text": [
      "100%|██████████| 199/199 [00:00<00:00, 2313.31it/s]\n"
     ]
    },
    {
     "name": "stdout",
     "output_type": "stream",
     "text": [
      "Total cleaned links plus non_links is 2798 for IntelDAOS\n",
      "----------------------------\n",
      "\n",
      "Loaded 15535 issues and 3303 links for JFrog\n"
     ]
    },
    {
     "name": "stderr",
     "output_type": "stream",
     "text": [
      "100%|██████████| 3303/3303 [00:00<00:00, 5086.18it/s]\n"
     ]
    },
    {
     "name": "stdout",
     "output_type": "stream",
     "text": [
      "Left with 3303 links after removing half-private links\n",
      "Left with 3273 links after removing issue-pairs with multiple links between them\n"
     ]
    },
    {
     "name": "stderr",
     "output_type": "stream",
     "text": [
      "100%|██████████| 24/24 [00:00<00:00, 1857.50it/s]\n"
     ]
    },
    {
     "name": "stdout",
     "output_type": "stream",
     "text": [
      "Left with 3233 links after removing issue-pairs with multiple link types between them\n",
      "Left with 3229 links after removing issue-pairs with multiple entries\n",
      "Cleaned 3229 links for JFrog\n",
      "Subtask                             1164\n",
      "Relationship                         884\n",
      "Duplicate                            643\n",
      "Dependency                           256\n",
      "Trigger                              202\n",
      "Contains(WBSGantt)                    44\n",
      "Cloners                               27\n",
      "Gantt End to End                       4\n",
      "Gantt End to Start                     3\n",
      "Finish-to-Finish link (WBSGantt)       1\n",
      "Gantt Start to Start                   1\n",
      "Name: linktype, dtype: int64\n"
     ]
    },
    {
     "name": "stderr",
     "output_type": "stream",
     "text": [
      "100%|██████████| 293/293 [00:00<00:00, 2005.80it/s]\n"
     ]
    },
    {
     "name": "stdout",
     "output_type": "stream",
     "text": [
      "Total cleaned links plus non_links is 3522 for JFrog\n",
      "----------------------------\n",
      "\n",
      "Loaded 316411 issues and 110507 links for Jira\n"
     ]
    },
    {
     "name": "stderr",
     "output_type": "stream",
     "text": [
      "100%|██████████| 110507/110507 [00:20<00:00, 5441.07it/s]\n",
      "/tmp/ipykernel_1717/4275618611.py:8: SettingWithCopyWarning: \n",
      "A value is trying to be set on a copy of a slice from a DataFrame\n",
      "\n",
      "See the caveats in the documentation: https://pandas.pydata.org/pandas-docs/stable/user_guide/indexing.html#returning-a-view-versus-a-copy\n",
      "  link_df.drop_duplicates(subset=['name'], keep=False, inplace=True)\n"
     ]
    },
    {
     "name": "stdout",
     "output_type": "stream",
     "text": [
      "Left with 102574 links after removing half-private links\n",
      "Left with 101181 links after removing issue-pairs with multiple links between them\n"
     ]
    },
    {
     "name": "stderr",
     "output_type": "stream",
     "text": [
      "100%|██████████| 819/819 [00:07<00:00, 113.27it/s]\n"
     ]
    },
    {
     "name": "stdout",
     "output_type": "stream",
     "text": [
      "Left with 100097 links after removing issue-pairs with multiple link types between them\n",
      "Left with 99820 links after removing issue-pairs with multiple entries\n",
      "Cleaned 99820 links for Jira\n",
      "Reference          63348\n",
      "Duplicate          21685\n",
      "Cloners             2866\n",
      "Subtask             2473\n",
      "Part                2449\n",
      "Detail              1870\n",
      "Cause               1784\n",
      "Blocker              987\n",
      "Derived              518\n",
      "Supersession         476\n",
      "Regression           378\n",
      "Relate               262\n",
      "Bonfire Testing      227\n",
      "Split                171\n",
      "Depends              165\n",
      "Resolve               64\n",
      "Follows               49\n",
      "Related               38\n",
      "Issue split           10\n",
      "Name: linktype, dtype: int64\n"
     ]
    },
    {
     "name": "stderr",
     "output_type": "stream",
     "text": [
      "100%|██████████| 5253/5253 [00:44<00:00, 119.36it/s]\n"
     ]
    },
    {
     "name": "stdout",
     "output_type": "stream",
     "text": [
      "Total cleaned links plus non_links is 105073 for Jira\n",
      "----------------------------\n",
      "\n",
      "Loaded 41866 issues and 12439 links for JiraEcosystem\n"
     ]
    },
    {
     "name": "stderr",
     "output_type": "stream",
     "text": [
      "100%|██████████| 12439/12439 [00:02<00:00, 5478.09it/s]\n",
      "/tmp/ipykernel_1717/4275618611.py:8: SettingWithCopyWarning: \n",
      "A value is trying to be set on a copy of a slice from a DataFrame\n",
      "\n",
      "See the caveats in the documentation: https://pandas.pydata.org/pandas-docs/stable/user_guide/indexing.html#returning-a-view-versus-a-copy\n",
      "  link_df.drop_duplicates(subset=['name'], keep=False, inplace=True)\n"
     ]
    },
    {
     "name": "stdout",
     "output_type": "stream",
     "text": [
      "Left with 11598 links after removing half-private links\n",
      "Left with 11514 links after removing issue-pairs with multiple links between them\n"
     ]
    },
    {
     "name": "stderr",
     "output_type": "stream",
     "text": [
      "100%|██████████| 66/66 [00:00<00:00, 888.62it/s]\n"
     ]
    },
    {
     "name": "stdout",
     "output_type": "stream",
     "text": [
      "Left with 11414 links after removing issue-pairs with multiple link types between them\n",
      "Left with 11398 links after removing issue-pairs with multiple entries\n",
      "Cleaned 11398 links for JiraEcosystem\n",
      "Epic-Relation                   2743\n",
      "Relate                          2468\n",
      "Subtask                         2284\n",
      "Duplicate                       1741\n",
      "Blocker                          676\n",
      "Cause                            440\n",
      "Part                             204\n",
      "Cloners                          201\n",
      "Reference                        145\n",
      "Depends                          127\n",
      "Split                            120\n",
      "Follows                           99\n",
      "Bonfire testing                   56\n",
      "Bonfire Testing                   46\n",
      "Epic                              21\n",
      "Issue split                       16\n",
      "Preceded By                        7\n",
      "Blocks                             2\n",
      "Polaris datapoint issue link       1\n",
      "Polaris issue link                 1\n",
      "Name: linktype, dtype: int64\n"
     ]
    },
    {
     "name": "stderr",
     "output_type": "stream",
     "text": [
      "100%|██████████| 569/569 [00:00<00:00, 949.86it/s] \n"
     ]
    },
    {
     "name": "stdout",
     "output_type": "stream",
     "text": [
      "Total cleaned links plus non_links is 11967 for JiraEcosystem\n",
      "----------------------------\n",
      "\n",
      "Loaded 31229 issues and 14950 links for MariaDB\n"
     ]
    },
    {
     "name": "stderr",
     "output_type": "stream",
     "text": [
      "100%|██████████| 14950/14950 [00:02<00:00, 5380.22it/s]\n",
      "/tmp/ipykernel_1717/4275618611.py:8: SettingWithCopyWarning: \n",
      "A value is trying to be set on a copy of a slice from a DataFrame\n",
      "\n",
      "See the caveats in the documentation: https://pandas.pydata.org/pandas-docs/stable/user_guide/indexing.html#returning-a-view-versus-a-copy\n",
      "  link_df.drop_duplicates(subset=['name'], keep=False, inplace=True)\n"
     ]
    },
    {
     "name": "stdout",
     "output_type": "stream",
     "text": [
      "Left with 14929 links after removing half-private links\n",
      "Left with 14773 links after removing issue-pairs with multiple links between them\n"
     ]
    },
    {
     "name": "stderr",
     "output_type": "stream",
     "text": [
      "100%|██████████| 98/98 [00:00<00:00, 737.01it/s]\n"
     ]
    },
    {
     "name": "stdout",
     "output_type": "stream",
     "text": [
      "Left with 14659 links after removing issue-pairs with multiple link types between them\n",
      "Left with 14618 links after removing issue-pairs with multiple entries\n",
      "Cleaned 14618 links for MariaDB\n",
      "Relates             7464\n",
      "Blocks              1899\n",
      "Duplicate           1374\n",
      "PartOf              1154\n",
      "Epic-Relation        942\n",
      "Subtask              891\n",
      "Problem/Incident     872\n",
      "Issue split           22\n",
      "Name: linktype, dtype: int64\n"
     ]
    },
    {
     "name": "stderr",
     "output_type": "stream",
     "text": [
      "100%|██████████| 1827/1827 [00:01<00:00, 1235.51it/s]\n"
     ]
    },
    {
     "name": "stdout",
     "output_type": "stream",
     "text": [
      "Total cleaned links plus non_links is 16445 for MariaDB\n",
      "----------------------------\n",
      "\n",
      "Loaded 420819 issues and 215821 links for Mojang\n"
     ]
    },
    {
     "name": "stderr",
     "output_type": "stream",
     "text": [
      "100%|██████████| 215821/215821 [00:39<00:00, 5443.21it/s]\n",
      "/tmp/ipykernel_1717/4275618611.py:8: SettingWithCopyWarning: \n",
      "A value is trying to be set on a copy of a slice from a DataFrame\n",
      "\n",
      "See the caveats in the documentation: https://pandas.pydata.org/pandas-docs/stable/user_guide/indexing.html#returning-a-view-versus-a-copy\n",
      "  link_df.drop_duplicates(subset=['name'], keep=False, inplace=True)\n"
     ]
    },
    {
     "name": "stdout",
     "output_type": "stream",
     "text": [
      "Left with 215807 links after removing half-private links\n",
      "Left with 215663 links after removing issue-pairs with multiple links between them\n"
     ]
    },
    {
     "name": "stderr",
     "output_type": "stream",
     "text": [
      "100%|██████████| 73/73 [00:01<00:00, 49.19it/s]\n"
     ]
    },
    {
     "name": "stdout",
     "output_type": "stream",
     "text": [
      "Left with 215547 links after removing issue-pairs with multiple link types between them\n",
      "Left with 215532 links after removing issue-pairs with multiple entries\n",
      "Cleaned 215532 links for Mojang\n",
      "Duplicate          193993\n",
      "Relates             20378\n",
      "Cloners               650\n",
      "Bonfire Testing       272\n",
      "Blocks                239\n",
      "Name: linktype, dtype: int64\n"
     ]
    },
    {
     "name": "stderr",
     "output_type": "stream",
     "text": [
      "100%|██████████| 43106/43106 [06:25<00:00, 111.92it/s]\n"
     ]
    },
    {
     "name": "stdout",
     "output_type": "stream",
     "text": [
      "Total cleaned links plus non_links is 258638 for Mojang\n",
      "----------------------------\n",
      "\n",
      "Loaded 137172 issues and 92362 links for MongoDB\n"
     ]
    },
    {
     "name": "stderr",
     "output_type": "stream",
     "text": [
      "100%|██████████| 92362/92362 [00:17<00:00, 5399.12it/s]\n",
      "/tmp/ipykernel_1717/4275618611.py:8: SettingWithCopyWarning: \n",
      "A value is trying to be set on a copy of a slice from a DataFrame\n",
      "\n",
      "See the caveats in the documentation: https://pandas.pydata.org/pandas-docs/stable/user_guide/indexing.html#returning-a-view-versus-a-copy\n",
      "  link_df.drop_duplicates(subset=['name'], keep=False, inplace=True)\n"
     ]
    },
    {
     "name": "stdout",
     "output_type": "stream",
     "text": [
      "Left with 65240 links after removing half-private links\n",
      "Left with 64537 links after removing issue-pairs with multiple links between them\n"
     ]
    },
    {
     "name": "stderr",
     "output_type": "stream",
     "text": [
      "100%|██████████| 389/389 [00:03<00:00, 108.05it/s]\n"
     ]
    },
    {
     "name": "stdout",
     "output_type": "stream",
     "text": [
      "Left with 63883 links after removing issue-pairs with multiple link types between them\n",
      "Left with 63821 links after removing issue-pairs with multiple entries\n",
      "Cleaned 63821 links for MongoDB\n",
      "Related                 25471\n",
      "Depends                 13933\n",
      "Epic-Relation           10149\n",
      "Duplicate                8587\n",
      "Documented               1825\n",
      "Problem/Incident         1082\n",
      "Subtask                   888\n",
      "Issue split               752\n",
      "Gantt Dependency          657\n",
      "Cloners                   202\n",
      "Backports                 170\n",
      "Tested                     62\n",
      "Gantt End to End           41\n",
      "Gantt Start to Start        1\n",
      "Initiative                  1\n",
      "Name: linktype, dtype: int64\n"
     ]
    },
    {
     "name": "stderr",
     "output_type": "stream",
     "text": [
      "100%|██████████| 4254/4254 [00:11<00:00, 370.78it/s]\n"
     ]
    },
    {
     "name": "stdout",
     "output_type": "stream",
     "text": [
      "Total cleaned links plus non_links is 68075 for MongoDB\n",
      "----------------------------\n",
      "\n",
      "Loaded 148579 issues and 41426 links for Qt\n"
     ]
    },
    {
     "name": "stderr",
     "output_type": "stream",
     "text": [
      "100%|██████████| 41426/41426 [00:07<00:00, 5449.95it/s]\n",
      "/tmp/ipykernel_1717/4275618611.py:8: SettingWithCopyWarning: \n",
      "A value is trying to be set on a copy of a slice from a DataFrame\n",
      "\n",
      "See the caveats in the documentation: https://pandas.pydata.org/pandas-docs/stable/user_guide/indexing.html#returning-a-view-versus-a-copy\n",
      "  link_df.drop_duplicates(subset=['name'], keep=False, inplace=True)\n"
     ]
    },
    {
     "name": "stdout",
     "output_type": "stream",
     "text": [
      "Left with 40646 links after removing half-private links\n",
      "Left with 40424 links after removing issue-pairs with multiple links between them\n"
     ]
    },
    {
     "name": "stderr",
     "output_type": "stream",
     "text": [
      "100%|██████████| 171/171 [00:00<00:00, 184.35it/s]\n"
     ]
    },
    {
     "name": "stdout",
     "output_type": "stream",
     "text": [
      "Left with 40128 links after removing issue-pairs with multiple link types between them\n",
      "Left with 40105 links after removing issue-pairs with multiple entries\n",
      "Cleaned 40105 links for Qt\n",
      "Subtask           9804\n",
      "Relates           8990\n",
      "Dependency        6260\n",
      "Epic-Relation     5428\n",
      "Duplicate         4243\n",
      "Work Breakdown    2667\n",
      "Replacement       2582\n",
      "Test                50\n",
      "Cloners             34\n",
      "Issue split         31\n",
      "Blocks              14\n",
      "Covered              2\n",
      "Name: linktype, dtype: int64\n"
     ]
    },
    {
     "name": "stderr",
     "output_type": "stream",
     "text": [
      "100%|██████████| 3342/3342 [00:12<00:00, 273.65it/s]\n"
     ]
    },
    {
     "name": "stdout",
     "output_type": "stream",
     "text": [
      "Total cleaned links plus non_links is 43447 for Qt\n",
      "----------------------------\n",
      "\n",
      "Loaded 353000 issues and 127369 links for RedHat\n"
     ]
    },
    {
     "name": "stderr",
     "output_type": "stream",
     "text": [
      "100%|██████████| 127369/127369 [00:24<00:00, 5237.09it/s]\n",
      "/tmp/ipykernel_1717/4275618611.py:8: SettingWithCopyWarning: \n",
      "A value is trying to be set on a copy of a slice from a DataFrame\n",
      "\n",
      "See the caveats in the documentation: https://pandas.pydata.org/pandas-docs/stable/user_guide/indexing.html#returning-a-view-versus-a-copy\n",
      "  link_df.drop_duplicates(subset=['name'], keep=False, inplace=True)\n"
     ]
    },
    {
     "name": "stdout",
     "output_type": "stream",
     "text": [
      "Left with 123000 links after removing half-private links\n",
      "Left with 121612 links after removing issue-pairs with multiple links between them\n"
     ]
    },
    {
     "name": "stderr",
     "output_type": "stream",
     "text": [
      "100%|██████████| 1205/1205 [00:14<00:00, 84.16it/s]\n"
     ]
    },
    {
     "name": "stdout",
     "output_type": "stream",
     "text": [
      "Left with 120136 links after removing issue-pairs with multiple link types between them\n",
      "Left with 119669 links after removing issue-pairs with multiple entries\n",
      "Cleaned 119669 links for RedHat\n",
      "Related                          31006\n",
      "Subtask                          24928\n",
      "Blocks                           18186\n",
      "Cloners                          16969\n",
      "Superset                         10661\n",
      "Duplicate                         5913\n",
      "Sequence                          5129\n",
      "Causality                         3168\n",
      "Cloners (old)                     1504\n",
      "Documentation                      670\n",
      "Parent-Relation                    621\n",
      "multi-level hierarchy [GANTT]      251\n",
      "finish-start [GANTT]               184\n",
      "Account                            166\n",
      "Issue split                        162\n",
      "Gantt: finish-start                 46\n",
      "Gantt: start-finish                 40\n",
      "finish-finish [GANTT]               40\n",
      "Gantt: finish-finish                20\n",
      "start-finish [GANTT]                 4\n",
      "Gantt: start-start                   1\n",
      "Name: linktype, dtype: int64\n"
     ]
    },
    {
     "name": "stderr",
     "output_type": "stream",
     "text": [
      "100%|██████████| 5698/5698 [01:12<00:00, 78.39it/s]\n"
     ]
    },
    {
     "name": "stdout",
     "output_type": "stream",
     "text": [
      "Total cleaned links plus non_links is 125367 for RedHat\n",
      "----------------------------\n",
      "\n",
      "Loaded 50550 issues and 20292 links for Sakai\n"
     ]
    },
    {
     "name": "stderr",
     "output_type": "stream",
     "text": [
      "100%|██████████| 20292/20292 [00:03<00:00, 5557.42it/s]\n"
     ]
    },
    {
     "name": "stdout",
     "output_type": "stream",
     "text": [
      "Left with 20292 links after removing half-private links\n",
      "Left with 20040 links after removing issue-pairs with multiple links between them\n"
     ]
    },
    {
     "name": "stderr",
     "output_type": "stream",
     "text": [
      "100%|██████████| 143/143 [00:00<00:00, 510.59it/s]\n"
     ]
    },
    {
     "name": "stdout",
     "output_type": "stream",
     "text": [
      "Left with 19852 links after removing issue-pairs with multiple link types between them\n",
      "Left with 19803 links after removing issue-pairs with multiple entries\n",
      "Cleaned 19803 links for Sakai\n",
      "1 - Relate             9711\n",
      "Subtask                3373\n",
      "5 - Depend             2578\n",
      "3 - Duplicate          1851\n",
      "4 - Incorporate        1334\n",
      "2 - Cloned              949\n",
      "6 - Blocks                6\n",
      "7 - Git Code Review       1\n",
      "Name: linktype, dtype: int64\n"
     ]
    },
    {
     "name": "stderr",
     "output_type": "stream",
     "text": [
      "100%|██████████| 2475/2475 [00:02<00:00, 857.29it/s]\n"
     ]
    },
    {
     "name": "stdout",
     "output_type": "stream",
     "text": [
      "Total cleaned links plus non_links is 22278 for Sakai\n",
      "----------------------------\n",
      "\n",
      "Loaded 1867 issues and 674 links for SecondLife\n"
     ]
    },
    {
     "name": "stderr",
     "output_type": "stream",
     "text": [
      "100%|██████████| 674/674 [00:00<00:00, 5850.78it/s]\n"
     ]
    },
    {
     "name": "stdout",
     "output_type": "stream",
     "text": [
      "Left with 674 links after removing half-private links\n",
      "Left with 662 links after removing issue-pairs with multiple links between them\n"
     ]
    },
    {
     "name": "stderr",
     "output_type": "stream",
     "text": [
      "100%|██████████| 17/17 [00:00<00:00, 3079.92it/s]\n"
     ]
    },
    {
     "name": "stdout",
     "output_type": "stream",
     "text": [
      "Left with 634 links after removing issue-pairs with multiple link types between them\n",
      "Left with 631 links after removing issue-pairs with multiple entries\n",
      "Cleaned 631 links for SecondLife\n",
      "Subtask         314\n",
      "Relates         186\n",
      "Cloners          48\n",
      "Parent/Child     41\n",
      "Depends          28\n",
      "Collection       14\n",
      "Name: linktype, dtype: int64\n"
     ]
    },
    {
     "name": "stderr",
     "output_type": "stream",
     "text": [
      "100%|██████████| 105/105 [00:00<00:00, 3036.46it/s]\n"
     ]
    },
    {
     "name": "stdout",
     "output_type": "stream",
     "text": [
      "Total cleaned links plus non_links is 736 for SecondLife\n",
      "----------------------------\n",
      "\n",
      "Loaded 87284 issues and 4975 links for Sonatype\n"
     ]
    },
    {
     "name": "stderr",
     "output_type": "stream",
     "text": [
      "100%|██████████| 4975/4975 [00:00<00:00, 5402.10it/s]\n",
      "/tmp/ipykernel_1717/4275618611.py:8: SettingWithCopyWarning: \n",
      "A value is trying to be set on a copy of a slice from a DataFrame\n",
      "\n",
      "See the caveats in the documentation: https://pandas.pydata.org/pandas-docs/stable/user_guide/indexing.html#returning-a-view-versus-a-copy\n",
      "  link_df.drop_duplicates(subset=['name'], keep=False, inplace=True)\n"
     ]
    },
    {
     "name": "stdout",
     "output_type": "stream",
     "text": [
      "Left with 4534 links after removing half-private links\n",
      "Left with 4498 links after removing issue-pairs with multiple links between them\n"
     ]
    },
    {
     "name": "stderr",
     "output_type": "stream",
     "text": [
      "100%|██████████| 17/17 [00:00<00:00, 1228.64it/s]\n"
     ]
    },
    {
     "name": "stdout",
     "output_type": "stream",
     "text": [
      "Left with 4466 links after removing issue-pairs with multiple link types between them\n",
      "Left with 4465 links after removing issue-pairs with multiple entries\n",
      "Cleaned 4465 links for Sonatype\n",
      "Relates            1785\n",
      "Subtask            1343\n",
      "Bonfire Testing     361\n",
      "Duplicate           342\n",
      "Caused              235\n",
      "dependent           162\n",
      "Supercedes          108\n",
      "Fixes               103\n",
      "Implements           11\n",
      "Epic-Relation         9\n",
      "Issue split           6\n",
      "Name: linktype, dtype: int64\n"
     ]
    },
    {
     "name": "stderr",
     "output_type": "stream",
     "text": [
      "100%|██████████| 405/405 [00:00<00:00, 574.29it/s]\n"
     ]
    },
    {
     "name": "stdout",
     "output_type": "stream",
     "text": [
      "Total cleaned links plus non_links is 4870 for Sonatype\n",
      "----------------------------\n",
      "\n",
      "Loaded 69156 issues and 14716 links for Spring\n"
     ]
    },
    {
     "name": "stderr",
     "output_type": "stream",
     "text": [
      "100%|██████████| 14716/14716 [00:02<00:00, 5392.18it/s]\n",
      "/tmp/ipykernel_1717/4275618611.py:8: SettingWithCopyWarning: \n",
      "A value is trying to be set on a copy of a slice from a DataFrame\n",
      "\n",
      "See the caveats in the documentation: https://pandas.pydata.org/pandas-docs/stable/user_guide/indexing.html#returning-a-view-versus-a-copy\n",
      "  link_df.drop_duplicates(subset=['name'], keep=False, inplace=True)\n"
     ]
    },
    {
     "name": "stdout",
     "output_type": "stream",
     "text": [
      "Left with 14616 links after removing half-private links\n",
      "Left with 14550 links after removing issue-pairs with multiple links between them\n"
     ]
    },
    {
     "name": "stderr",
     "output_type": "stream",
     "text": [
      "100%|██████████| 52/52 [00:00<00:00, 722.61it/s]\n"
     ]
    },
    {
     "name": "stdout",
     "output_type": "stream",
     "text": [
      "Left with 14478 links after removing issue-pairs with multiple link types between them\n",
      "Left with 14462 links after removing issue-pairs with multiple entries\n",
      "Cleaned 14462 links for Spring\n",
      "Relate           5909\n",
      "Subtask          1941\n",
      "Duplicate        1745\n",
      "Epic-Relation    1635\n",
      "Depend           1259\n",
      "Related           993\n",
      "Depends           488\n",
      "Supersede         478\n",
      "Cloners            14\n",
      "Name: linktype, dtype: int64\n"
     ]
    },
    {
     "name": "stderr",
     "output_type": "stream",
     "text": [
      "100%|██████████| 1606/1606 [00:02<00:00, 767.14it/s]\n"
     ]
    },
    {
     "name": "stdout",
     "output_type": "stream",
     "text": [
      "Total cleaned links plus non_links is 16068 for Spring\n",
      "----------------------------\n",
      "\n"
     ]
    }
   ],
   "source": [
    "for repo in REPOS:\n",
    "    issue_df = load_issues(repo)\n",
    "    link_df = load_links(repo)\n",
    "    print(f'Loaded {len(issue_df)} issues and {len(link_df)} links for {repo}')\n",
    "    \n",
    "    add_linked_issues_to_df(link_df)\n",
    "    link_df = clean_links(link_df, issue_df)\n",
    "\n",
    "    print(f'Cleaned {len(link_df)} links for {repo}')\n",
    "    print(link_df.linktype.value_counts())\n",
    "\n",
    "    linked_pairs = set(link_df['issues'])\n",
    "    link_plus_df = create_non_links(link_df, issue_df, linked_pairs)\n",
    "    \n",
    "    print(f'Total cleaned links plus non_links is {len(link_plus_df)} for {repo}')\n",
    "\n",
    "    link_df = joined_links(link_df, issue_df)\n",
    "    link_df.to_csv('./data/joined/links/' + repo + '.csv', sep=';', encoding='utf-8', index=True)\n",
    "    \n",
    "    link_plus_df = joined_links(link_plus_df, issue_df)\n",
    "    link_plus_df.to_csv('./data/joined/links_plus/' + repo + '.csv', sep=';', encoding='utf-8', index=True)\n",
    "\n",
    "    print(\"----------------------------\\n\")"
   ]
  }
 ],
 "metadata": {
  "kernelspec": {
   "display_name": "Python 3",
   "language": "python",
   "name": "python3"
  },
  "language_info": {
   "codemirror_mode": {
    "name": "ipython",
    "version": 3
   },
   "file_extension": ".py",
   "mimetype": "text/x-python",
   "name": "python",
   "nbconvert_exporter": "python",
   "pygments_lexer": "ipython3",
   "version": "3.9.17"
  }
 },
 "nbformat": 4,
 "nbformat_minor": 5
}
